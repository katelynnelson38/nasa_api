{
 "cells": [
  {
   "cell_type": "code",
   "execution_count": null,
   "metadata": {},
   "outputs": [],
   "source": [
    "import pandas as pd\n",
    "import numpy as np\n",
    "from bs4 import BeautifulSoup\n",
    "import requests\n",
    "import re"
   ]
  },
  {
   "cell_type": "markdown",
   "metadata": {},
   "source": [
    "# Accessing API data"
   ]
  },
  {
   "cell_type": "markdown",
   "metadata": {},
   "source": [
    "link to landslide data: https://data.nasa.gov/Earth-Science/Global-Landslide-Catalog-Export/dd9e-wu2v\n",
    "\n",
    "request a nasa api key here: https://api.nasa.gov/index.html#signUp"
   ]
  },
  {
   "cell_type": "code",
   "execution_count": null,
   "metadata": {},
   "outputs": [],
   "source": [
    "# save your personal api key in a text file and read it in, I saved mine as nasa_key\n",
    "with open('nasa_apikey.txt', 'r') as file:\n",
    "    nasa_key = file.read()"
   ]
  },
  {
   "cell_type": "code",
   "execution_count": null,
   "metadata": {},
   "outputs": [],
   "source": [
    "# initialize the payload\n",
    "payload = {}\n",
    "\n",
    "# save the apikey as a header to use in request.get()\n",
    "headers= {\n",
    "  \"apikey\": nasa_key\n",
    "}"
   ]
  },
  {
   "cell_type": "code",
   "execution_count": null,
   "metadata": {},
   "outputs": [],
   "source": [
    "# url for accessing the data - this is usually found in the API documentation\n",
    "nasa_url = 'https://data.nasa.gov/resource/dd9e-wu2v.json'"
   ]
  },
  {
   "cell_type": "code",
   "execution_count": null,
   "metadata": {},
   "outputs": [],
   "source": [
    "# request to pull the data with your API\n",
    "r = requests.get(nasa_url, headers=headers, data = payload)"
   ]
  },
  {
   "cell_type": "code",
   "execution_count": null,
   "metadata": {},
   "outputs": [],
   "source": [
    "# this will return True if your request is successful\n",
    "r.ok"
   ]
  },
  {
   "cell_type": "code",
   "execution_count": null,
   "metadata": {},
   "outputs": [],
   "source": [
    "# read the data and turn it into a data frame\n",
    "landslide = r.json()\n",
    "landslide_df = pd.DataFrame(landslide)"
   ]
  },
  {
   "cell_type": "code",
   "execution_count": null,
   "metadata": {},
   "outputs": [],
   "source": [
    "landslide_df.shape"
   ]
  },
  {
   "cell_type": "markdown",
   "metadata": {},
   "source": [
    "### Data cleaning"
   ]
  },
  {
   "cell_type": "code",
   "execution_count": null,
   "metadata": {},
   "outputs": [],
   "source": [
    "# select desired columns\n",
    "landslide_df = landslide_df[['event_date', 'landslide_category', 'landslide_trigger', \n",
    "'landslide_size', 'fatality_count', 'injury_count', 'country_name', 'longitude', 'latitude']]"
   ]
  },
  {
   "cell_type": "code",
   "execution_count": null,
   "metadata": {},
   "outputs": [],
   "source": [
    "landslide_df.isnull().sum()"
   ]
  },
  {
   "cell_type": "code",
   "execution_count": null,
   "metadata": {},
   "outputs": [],
   "source": [
    "landslide_df.info()"
   ]
  },
  {
   "cell_type": "code",
   "execution_count": null,
   "metadata": {},
   "outputs": [],
   "source": [
    "# changing numeric variables to type float instead of type object\n",
    "landslide_df['fatality_count'] = landslide_df['fatality_count'].astype(float)\n",
    "landslide_df['injury_count'] = landslide_df['injury_count'].astype(float)\n",
    "landslide_df['longitude'] = landslide_df['longitude'].astype(float)\n",
    "landslide_df['latitude'] = landslide_df['latitude'].astype(float)\n",
    "\n",
    "# simplifying event_date and changing to type datetime\n",
    "landslide_df['event_date'] = landslide_df['event_date'].str.extract(r'(\\d+\\-\\d+\\-\\d+)')\n",
    "landslide_df['event_date'] = pd.to_datetime(landslide_df['event_date'])"
   ]
  },
  {
   "cell_type": "code",
   "execution_count": null,
   "metadata": {},
   "outputs": [],
   "source": [
    "# fill NA variables\n",
    "landslide_df['landslide_size'] = landslide_df['landslide_size'].fillna('unknown')\n",
    "landslide_df['landslide_trigger'] = landslide_df['landslide_trigger'].fillna('unknown')\n",
    "landslide_df['country_name'] = landslide_df['country_name'].fillna('other/unknown')\n",
    "landslide_df['fatality_count'] = landslide_df['fatality_count'].fillna(0)\n",
    "landslide_df['injury_count'] = landslide_df['injury_count'].fillna(0)"
   ]
  },
  {
   "cell_type": "code",
   "execution_count": null,
   "metadata": {},
   "outputs": [],
   "source": [
    "landslide_df.info()"
   ]
  },
  {
   "cell_type": "code",
   "execution_count": null,
   "metadata": {},
   "outputs": [],
   "source": [
    "landslide_df.head()"
   ]
  },
  {
   "cell_type": "code",
   "execution_count": null,
   "metadata": {},
   "outputs": [],
   "source": [
    "landslide_df.shape"
   ]
  },
  {
   "cell_type": "markdown",
   "metadata": {},
   "source": [
    "### Exporting the data"
   ]
  },
  {
   "cell_type": "code",
   "execution_count": null,
   "metadata": {},
   "outputs": [],
   "source": [
    "landslide_df.to_csv(\"landslide\", index = False)"
   ]
  },
  {
   "cell_type": "code",
   "execution_count": null,
   "metadata": {},
   "outputs": [],
   "source": [
    "from pandas import read_csv\n",
    "\n",
    "csv = read_csv('landslide')"
   ]
  },
  {
   "cell_type": "code",
   "execution_count": null,
   "metadata": {},
   "outputs": [],
   "source": [
    "# Note: you will have to change the variable types again if you read it in from a csv\n",
    "csv.info()"
   ]
  },
  {
   "cell_type": "markdown",
   "metadata": {},
   "source": [
    "# Exploratory Data Analysis..."
   ]
  },
  {
   "cell_type": "code",
   "execution_count": null,
   "metadata": {},
   "outputs": [],
   "source": []
  }
 ],
 "metadata": {
  "kernelspec": {
   "display_name": "Python 3.9.12 ('base')",
   "language": "python",
   "name": "python3"
  },
  "language_info": {
   "codemirror_mode": {
    "name": "ipython",
    "version": 3
   },
   "file_extension": ".py",
   "mimetype": "text/x-python",
   "name": "python",
   "nbconvert_exporter": "python",
   "pygments_lexer": "ipython3",
   "version": "3.9.12"
  },
  "orig_nbformat": 4,
  "vscode": {
   "interpreter": {
    "hash": "50f5d15d21db65715275200aedc6eafab316ead8e5e1eaf2ca5c0afdb49b36ef"
   }
  }
 },
 "nbformat": 4,
 "nbformat_minor": 2
}
