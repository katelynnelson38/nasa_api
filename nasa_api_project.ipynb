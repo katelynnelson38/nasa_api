{
 "cells": [
  {
   "cell_type": "code",
   "execution_count": 56,
   "metadata": {},
   "outputs": [],
   "source": [
    "import pandas as pd\n",
    "import numpy as np\n",
    "from bs4 import BeautifulSoup\n",
    "import requests\n",
    "import re"
   ]
  },
  {
   "cell_type": "code",
   "execution_count": null,
   "metadata": {},
   "outputs": [],
   "source": [
    "# link to landslide data\n",
    "# https://data.nasa.gov/Earth-Science/Global-Landslide-Catalog-Export/dd9e-wu2v"
   ]
  },
  {
   "cell_type": "code",
   "execution_count": null,
   "metadata": {},
   "outputs": [],
   "source": [
    "# request a nasa api key here: https://api.nasa.gov/index.html#signUp"
   ]
  },
  {
   "cell_type": "code",
   "execution_count": 2,
   "metadata": {},
   "outputs": [],
   "source": [
    "# save your personal api key in a text file and read it in, I saved mine as nasa_key\n",
    "with open('nasa_apikey.txt', 'r') as file:\n",
    "    nasa_key = file.read()"
   ]
  },
  {
   "cell_type": "code",
   "execution_count": 3,
   "metadata": {},
   "outputs": [
    {
     "data": {
      "text/plain": [
       "{}"
      ]
     },
     "execution_count": 3,
     "metadata": {},
     "output_type": "execute_result"
    }
   ],
   "source": [
    "# initialize the payload\n",
    "payload = {}\n",
    "\n",
    "# save the apikey as a header to use in request.get()\n",
    "headers= {\n",
    "  \"apikey\": nasa_key\n",
    "}"
   ]
  },
  {
   "cell_type": "code",
   "execution_count": 4,
   "metadata": {},
   "outputs": [],
   "source": [
    "# url for accessing the data - this is usually found in the API documentation\n",
    "nasa_url = 'https://data.nasa.gov/resource/dd9e-wu2v.json'"
   ]
  },
  {
   "cell_type": "code",
   "execution_count": 8,
   "metadata": {},
   "outputs": [],
   "source": [
    "# request to pull the data with your API\n",
    "r = requests.get(nasa_url, headers=headers, data = payload)"
   ]
  },
  {
   "cell_type": "code",
   "execution_count": 52,
   "metadata": {},
   "outputs": [
    {
     "data": {
      "text/plain": [
       "True"
      ]
     },
     "execution_count": 52,
     "metadata": {},
     "output_type": "execute_result"
    }
   ],
   "source": [
    "# this will return True if your request is successful\n",
    "r.ok"
   ]
  },
  {
   "cell_type": "code",
   "execution_count": 137,
   "metadata": {},
   "outputs": [],
   "source": [
    "landslide = r.json()\n",
    "landslide_df = pd.DataFrame(landslide)"
   ]
  },
  {
   "cell_type": "code",
   "execution_count": 138,
   "metadata": {},
   "outputs": [
    {
     "data": {
      "text/plain": [
       "(1000, 30)"
      ]
     },
     "execution_count": 138,
     "metadata": {},
     "output_type": "execute_result"
    }
   ],
   "source": [
    "landslide_df.shape"
   ]
  },
  {
   "cell_type": "code",
   "execution_count": 139,
   "metadata": {},
   "outputs": [],
   "source": [
    "landslide_df = landslide_df[['event_date', 'landslide_category', 'landslide_trigger', \n",
    "'landslide_size', 'fatality_count', 'injury_count', 'country_name', 'longitude', 'latitude']]"
   ]
  },
  {
   "cell_type": "code",
   "execution_count": 140,
   "metadata": {},
   "outputs": [
    {
     "data": {
      "text/plain": [
       "event_date              0\n",
       "landslide_category      0\n",
       "landslide_trigger       1\n",
       "landslide_size          3\n",
       "fatality_count        110\n",
       "injury_count          672\n",
       "country_name          148\n",
       "longitude               0\n",
       "latitude                0\n",
       "dtype: int64"
      ]
     },
     "execution_count": 140,
     "metadata": {},
     "output_type": "execute_result"
    }
   ],
   "source": [
    "landslide_df.isnull().sum()"
   ]
  },
  {
   "cell_type": "code",
   "execution_count": 141,
   "metadata": {},
   "outputs": [
    {
     "name": "stdout",
     "output_type": "stream",
     "text": [
      "<class 'pandas.core.frame.DataFrame'>\n",
      "RangeIndex: 1000 entries, 0 to 999\n",
      "Data columns (total 9 columns):\n",
      " #   Column              Non-Null Count  Dtype \n",
      "---  ------              --------------  ----- \n",
      " 0   event_date          1000 non-null   object\n",
      " 1   landslide_category  1000 non-null   object\n",
      " 2   landslide_trigger   999 non-null    object\n",
      " 3   landslide_size      997 non-null    object\n",
      " 4   fatality_count      890 non-null    object\n",
      " 5   injury_count        328 non-null    object\n",
      " 6   country_name        852 non-null    object\n",
      " 7   longitude           1000 non-null   object\n",
      " 8   latitude            1000 non-null   object\n",
      "dtypes: object(9)\n",
      "memory usage: 70.4+ KB\n"
     ]
    }
   ],
   "source": [
    "landslide_df.info()"
   ]
  },
  {
   "cell_type": "code",
   "execution_count": 142,
   "metadata": {},
   "outputs": [],
   "source": [
    "# changing numeric variables to type float instead of type object\n",
    "landslide_df['fatality_count'] = landslide_df['fatality_count'].astype(float)\n",
    "landslide_df['injury_count'] = landslide_df['injury_count'].astype(float)\n",
    "landslide_df['longitude'] = landslide_df['longitude'].astype(float)\n",
    "landslide_df['latitude'] = landslide_df['latitude'].astype(float)\n",
    "\n",
    "# simplifying event_date and changing to type datetime\n",
    "landslide_df['event_date'] = landslide_df['event_date'].str.extract(r'(\\d+\\-\\d+\\-\\d+)')\n",
    "landslide_df['event_date'] = pd.to_datetime(landslide_df['event_date'])"
   ]
  },
  {
   "cell_type": "code",
   "execution_count": 143,
   "metadata": {},
   "outputs": [],
   "source": [
    "landslide_df['landslide_size'] = landslide_df['landslide_size'].fillna('unknown')\n",
    "landslide_df['landslide_trigger'] = landslide_df['landslide_trigger'].fillna('unknown')\n",
    "landslide_df['country_name'] = landslide_df['country_name'].fillna('other/unknown')\n",
    "landslide_df['fatality_count'] = landslide_df['fatality_count'].fillna(0)\n",
    "landslide_df['injury_count'] = landslide_df['injury_count'].fillna(0)"
   ]
  },
  {
   "cell_type": "code",
   "execution_count": 144,
   "metadata": {},
   "outputs": [
    {
     "name": "stdout",
     "output_type": "stream",
     "text": [
      "<class 'pandas.core.frame.DataFrame'>\n",
      "RangeIndex: 1000 entries, 0 to 999\n",
      "Data columns (total 9 columns):\n",
      " #   Column              Non-Null Count  Dtype         \n",
      "---  ------              --------------  -----         \n",
      " 0   event_date          1000 non-null   datetime64[ns]\n",
      " 1   landslide_category  1000 non-null   object        \n",
      " 2   landslide_trigger   1000 non-null   object        \n",
      " 3   landslide_size      1000 non-null   object        \n",
      " 4   fatality_count      1000 non-null   float64       \n",
      " 5   injury_count        1000 non-null   float64       \n",
      " 6   country_name        1000 non-null   object        \n",
      " 7   longitude           1000 non-null   float64       \n",
      " 8   latitude            1000 non-null   float64       \n",
      "dtypes: datetime64[ns](1), float64(4), object(4)\n",
      "memory usage: 70.4+ KB\n"
     ]
    }
   ],
   "source": [
    "landslide_df.info()"
   ]
  },
  {
   "cell_type": "code",
   "execution_count": 145,
   "metadata": {},
   "outputs": [
    {
     "data": {
      "text/html": [
       "<div>\n",
       "<style scoped>\n",
       "    .dataframe tbody tr th:only-of-type {\n",
       "        vertical-align: middle;\n",
       "    }\n",
       "\n",
       "    .dataframe tbody tr th {\n",
       "        vertical-align: top;\n",
       "    }\n",
       "\n",
       "    .dataframe thead th {\n",
       "        text-align: right;\n",
       "    }\n",
       "</style>\n",
       "<table border=\"1\" class=\"dataframe\">\n",
       "  <thead>\n",
       "    <tr style=\"text-align: right;\">\n",
       "      <th></th>\n",
       "      <th>event_date</th>\n",
       "      <th>landslide_category</th>\n",
       "      <th>landslide_trigger</th>\n",
       "      <th>landslide_size</th>\n",
       "      <th>fatality_count</th>\n",
       "      <th>injury_count</th>\n",
       "      <th>country_name</th>\n",
       "      <th>longitude</th>\n",
       "      <th>latitude</th>\n",
       "    </tr>\n",
       "  </thead>\n",
       "  <tbody>\n",
       "    <tr>\n",
       "      <th>0</th>\n",
       "      <td>2014-05-20</td>\n",
       "      <td>landslide</td>\n",
       "      <td>downpour</td>\n",
       "      <td>small</td>\n",
       "      <td>0.0</td>\n",
       "      <td>0.0</td>\n",
       "      <td>New Zealand</td>\n",
       "      <td>167.6337</td>\n",
       "      <td>-46.7748</td>\n",
       "    </tr>\n",
       "    <tr>\n",
       "      <th>1</th>\n",
       "      <td>2010-05-29</td>\n",
       "      <td>landslide</td>\n",
       "      <td>downpour</td>\n",
       "      <td>medium</td>\n",
       "      <td>0.0</td>\n",
       "      <td>0.0</td>\n",
       "      <td>New Zealand</td>\n",
       "      <td>170.0982</td>\n",
       "      <td>-45.9034</td>\n",
       "    </tr>\n",
       "    <tr>\n",
       "      <th>2</th>\n",
       "      <td>2015-06-04</td>\n",
       "      <td>landslide</td>\n",
       "      <td>downpour</td>\n",
       "      <td>medium</td>\n",
       "      <td>0.0</td>\n",
       "      <td>0.0</td>\n",
       "      <td>New Zealand</td>\n",
       "      <td>170.6273</td>\n",
       "      <td>-45.8767</td>\n",
       "    </tr>\n",
       "    <tr>\n",
       "      <th>3</th>\n",
       "      <td>2013-06-17</td>\n",
       "      <td>landslide</td>\n",
       "      <td>downpour</td>\n",
       "      <td>medium</td>\n",
       "      <td>0.0</td>\n",
       "      <td>0.0</td>\n",
       "      <td>New Zealand</td>\n",
       "      <td>170.5863</td>\n",
       "      <td>-45.8727</td>\n",
       "    </tr>\n",
       "    <tr>\n",
       "      <th>4</th>\n",
       "      <td>2014-05-01</td>\n",
       "      <td>landslide</td>\n",
       "      <td>rain</td>\n",
       "      <td>small</td>\n",
       "      <td>0.0</td>\n",
       "      <td>0.0</td>\n",
       "      <td>New Zealand</td>\n",
       "      <td>170.5090</td>\n",
       "      <td>-45.8618</td>\n",
       "    </tr>\n",
       "  </tbody>\n",
       "</table>\n",
       "</div>"
      ],
      "text/plain": [
       "  event_date landslide_category landslide_trigger landslide_size  \\\n",
       "0 2014-05-20          landslide          downpour          small   \n",
       "1 2010-05-29          landslide          downpour         medium   \n",
       "2 2015-06-04          landslide          downpour         medium   \n",
       "3 2013-06-17          landslide          downpour         medium   \n",
       "4 2014-05-01          landslide              rain          small   \n",
       "\n",
       "   fatality_count  injury_count country_name  longitude  latitude  \n",
       "0             0.0           0.0  New Zealand   167.6337  -46.7748  \n",
       "1             0.0           0.0  New Zealand   170.0982  -45.9034  \n",
       "2             0.0           0.0  New Zealand   170.6273  -45.8767  \n",
       "3             0.0           0.0  New Zealand   170.5863  -45.8727  \n",
       "4             0.0           0.0  New Zealand   170.5090  -45.8618  "
      ]
     },
     "execution_count": 145,
     "metadata": {},
     "output_type": "execute_result"
    }
   ],
   "source": [
    "landslide_df.head()"
   ]
  },
  {
   "cell_type": "code",
   "execution_count": 147,
   "metadata": {},
   "outputs": [
    {
     "data": {
      "text/plain": [
       "(1000, 9)"
      ]
     },
     "execution_count": 147,
     "metadata": {},
     "output_type": "execute_result"
    }
   ],
   "source": [
    "landslide_df.shape"
   ]
  },
  {
   "cell_type": "code",
   "execution_count": 151,
   "metadata": {},
   "outputs": [],
   "source": [
    "landslide_df.to_csv(\"landslide\", index = False)"
   ]
  },
  {
   "cell_type": "code",
   "execution_count": 152,
   "metadata": {},
   "outputs": [],
   "source": [
    "from pandas import read_csv\n",
    "\n",
    "\n",
    "csv = read_csv('landslide')"
   ]
  },
  {
   "cell_type": "code",
   "execution_count": 154,
   "metadata": {},
   "outputs": [
    {
     "name": "stdout",
     "output_type": "stream",
     "text": [
      "<class 'pandas.core.frame.DataFrame'>\n",
      "RangeIndex: 1000 entries, 0 to 999\n",
      "Data columns (total 9 columns):\n",
      " #   Column              Non-Null Count  Dtype  \n",
      "---  ------              --------------  -----  \n",
      " 0   event_date          1000 non-null   object \n",
      " 1   landslide_category  1000 non-null   object \n",
      " 2   landslide_trigger   1000 non-null   object \n",
      " 3   landslide_size      1000 non-null   object \n",
      " 4   fatality_count      1000 non-null   float64\n",
      " 5   injury_count        1000 non-null   float64\n",
      " 6   country_name        1000 non-null   object \n",
      " 7   longitude           1000 non-null   float64\n",
      " 8   latitude            1000 non-null   float64\n",
      "dtypes: float64(4), object(5)\n",
      "memory usage: 70.4+ KB\n"
     ]
    }
   ],
   "source": [
    "csv.info()"
   ]
  }
 ],
 "metadata": {
  "kernelspec": {
   "display_name": "Python 3.9.12 ('base')",
   "language": "python",
   "name": "python3"
  },
  "language_info": {
   "codemirror_mode": {
    "name": "ipython",
    "version": 3
   },
   "file_extension": ".py",
   "mimetype": "text/x-python",
   "name": "python",
   "nbconvert_exporter": "python",
   "pygments_lexer": "ipython3",
   "version": "3.9.12"
  },
  "orig_nbformat": 4,
  "vscode": {
   "interpreter": {
    "hash": "50f5d15d21db65715275200aedc6eafab316ead8e5e1eaf2ca5c0afdb49b36ef"
   }
  }
 },
 "nbformat": 4,
 "nbformat_minor": 2
}
